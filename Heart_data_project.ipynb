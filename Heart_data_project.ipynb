{
 "cells": [
  {
   "cell_type": "markdown",
   "id": "fe06496d",
   "metadata": {},
   "source": [
    "## Step 1 \n",
    "First we are importing everything necessary for the assignment, including the types of models I will be using. "
   ]
  },
  {
   "cell_type": "code",
   "execution_count": 1,
   "id": "50fd8e63",
   "metadata": {},
   "outputs": [],
   "source": [
    "import pandas as pd\n",
    "import numpy as np\n",
    "from sklearn.model_selection import train_test_split\n",
    "from sklearn.preprocessing import OneHotEncoder\n",
    "from sklearn.preprocessing import StandardScaler\n",
    "from sklearn.compose import make_column_transformer\n",
    "from sklearn.pipeline import Pipeline, make_pipeline\n",
    "from sklearn.model_selection import GridSearchCV\n",
    "from sklearn.model_selection import cross_val_score\n",
    "from sklearn.linear_model import LogisticRegression\n",
    "from sklearn.ensemble import GradientBoostingClassifier\n",
    "from sklearn.neural_network import MLPClassifier\n",
    "from sklearn.neighbors import KNeighborsClassifier"
   ]
  },
  {
   "cell_type": "markdown",
   "id": "9a5f328c",
   "metadata": {},
   "source": [
    "## Step 2 \n",
    "I next imported the heart train test as well as the heart validation which is labelled heart new and will be used for making the final predictions at the end. "
   ]
  },
  {
   "cell_type": "code",
   "execution_count": 26,
   "id": "a97cc14f",
   "metadata": {},
   "outputs": [],
   "source": [
    "heart = pd.read_csv(\"heart_train_test.csv\")\n",
    "heart_new = pd.read_csv(\"heart_validation_nt.csv\")"
   ]
  },
  {
   "cell_type": "markdown",
   "id": "3ba44057",
   "metadata": {},
   "source": [
    "## Step 3\n",
    "Data Analysis- Here I can examine the features in the dataset. I can also see the target variable information which tells which has the number of people who had heart disease and who didnt. "
   ]
  },
  {
   "cell_type": "code",
   "execution_count": 3,
   "id": "1bca1544",
   "metadata": {},
   "outputs": [
    {
     "name": "stdout",
     "output_type": "stream",
     "text": [
      "<class 'pandas.core.frame.DataFrame'>\n",
      "RangeIndex: 243 entries, 0 to 242\n",
      "Data columns (total 14 columns):\n",
      " #   Column    Non-Null Count  Dtype  \n",
      "---  ------    --------------  -----  \n",
      " 0   age       243 non-null    int64  \n",
      " 1   sex       243 non-null    int64  \n",
      " 2   cp        243 non-null    int64  \n",
      " 3   trestbps  243 non-null    int64  \n",
      " 4   chol      243 non-null    int64  \n",
      " 5   fbs       243 non-null    int64  \n",
      " 6   restecg   243 non-null    int64  \n",
      " 7   thalach   243 non-null    int64  \n",
      " 8   exang     243 non-null    int64  \n",
      " 9   oldpeak   243 non-null    float64\n",
      " 10  slope     243 non-null    int64  \n",
      " 11  ca        243 non-null    int64  \n",
      " 12  thal      243 non-null    int64  \n",
      " 13  target    243 non-null    int64  \n",
      "dtypes: float64(1), int64(13)\n",
      "memory usage: 26.7 KB\n"
     ]
    }
   ],
   "source": [
    "heart.info()"
   ]
  },
  {
   "cell_type": "code",
   "execution_count": 4,
   "id": "6f645b9b",
   "metadata": {},
   "outputs": [
    {
     "data": {
      "text/html": [
       "<div>\n",
       "<style scoped>\n",
       "    .dataframe tbody tr th:only-of-type {\n",
       "        vertical-align: middle;\n",
       "    }\n",
       "\n",
       "    .dataframe tbody tr th {\n",
       "        vertical-align: top;\n",
       "    }\n",
       "\n",
       "    .dataframe thead th {\n",
       "        text-align: right;\n",
       "    }\n",
       "</style>\n",
       "<table border=\"1\" class=\"dataframe\">\n",
       "  <thead>\n",
       "    <tr style=\"text-align: right;\">\n",
       "      <th></th>\n",
       "      <th>age</th>\n",
       "      <th>sex</th>\n",
       "      <th>cp</th>\n",
       "      <th>trestbps</th>\n",
       "      <th>chol</th>\n",
       "      <th>fbs</th>\n",
       "      <th>restecg</th>\n",
       "      <th>thalach</th>\n",
       "      <th>exang</th>\n",
       "      <th>oldpeak</th>\n",
       "      <th>slope</th>\n",
       "      <th>ca</th>\n",
       "      <th>thal</th>\n",
       "      <th>target</th>\n",
       "    </tr>\n",
       "  </thead>\n",
       "  <tbody>\n",
       "    <tr>\n",
       "      <th>count</th>\n",
       "      <td>243.000000</td>\n",
       "      <td>243.000000</td>\n",
       "      <td>243.000000</td>\n",
       "      <td>243.000000</td>\n",
       "      <td>243.000000</td>\n",
       "      <td>243.000000</td>\n",
       "      <td>243.000000</td>\n",
       "      <td>243.000000</td>\n",
       "      <td>243.000000</td>\n",
       "      <td>243.000000</td>\n",
       "      <td>243.000000</td>\n",
       "      <td>243.000000</td>\n",
       "      <td>243.000000</td>\n",
       "      <td>243.000000</td>\n",
       "    </tr>\n",
       "    <tr>\n",
       "      <th>mean</th>\n",
       "      <td>54.065844</td>\n",
       "      <td>0.683128</td>\n",
       "      <td>0.950617</td>\n",
       "      <td>131.769547</td>\n",
       "      <td>245.353909</td>\n",
       "      <td>0.152263</td>\n",
       "      <td>0.563786</td>\n",
       "      <td>150.267490</td>\n",
       "      <td>0.325103</td>\n",
       "      <td>1.019342</td>\n",
       "      <td>1.407407</td>\n",
       "      <td>0.736626</td>\n",
       "      <td>2.300412</td>\n",
       "      <td>0.563786</td>\n",
       "    </tr>\n",
       "    <tr>\n",
       "      <th>std</th>\n",
       "      <td>9.006184</td>\n",
       "      <td>0.466218</td>\n",
       "      <td>1.023298</td>\n",
       "      <td>17.731596</td>\n",
       "      <td>52.535921</td>\n",
       "      <td>0.360018</td>\n",
       "      <td>0.529155</td>\n",
       "      <td>23.165022</td>\n",
       "      <td>0.469380</td>\n",
       "      <td>1.177122</td>\n",
       "      <td>0.618805</td>\n",
       "      <td>1.022766</td>\n",
       "      <td>0.606678</td>\n",
       "      <td>0.496938</td>\n",
       "    </tr>\n",
       "    <tr>\n",
       "      <th>min</th>\n",
       "      <td>29.000000</td>\n",
       "      <td>0.000000</td>\n",
       "      <td>0.000000</td>\n",
       "      <td>94.000000</td>\n",
       "      <td>131.000000</td>\n",
       "      <td>0.000000</td>\n",
       "      <td>0.000000</td>\n",
       "      <td>88.000000</td>\n",
       "      <td>0.000000</td>\n",
       "      <td>0.000000</td>\n",
       "      <td>0.000000</td>\n",
       "      <td>0.000000</td>\n",
       "      <td>0.000000</td>\n",
       "      <td>0.000000</td>\n",
       "    </tr>\n",
       "    <tr>\n",
       "      <th>25%</th>\n",
       "      <td>47.000000</td>\n",
       "      <td>0.000000</td>\n",
       "      <td>0.000000</td>\n",
       "      <td>120.000000</td>\n",
       "      <td>207.500000</td>\n",
       "      <td>0.000000</td>\n",
       "      <td>0.000000</td>\n",
       "      <td>133.500000</td>\n",
       "      <td>0.000000</td>\n",
       "      <td>0.000000</td>\n",
       "      <td>1.000000</td>\n",
       "      <td>0.000000</td>\n",
       "      <td>2.000000</td>\n",
       "      <td>0.000000</td>\n",
       "    </tr>\n",
       "    <tr>\n",
       "      <th>50%</th>\n",
       "      <td>55.000000</td>\n",
       "      <td>1.000000</td>\n",
       "      <td>1.000000</td>\n",
       "      <td>130.000000</td>\n",
       "      <td>239.000000</td>\n",
       "      <td>0.000000</td>\n",
       "      <td>1.000000</td>\n",
       "      <td>155.000000</td>\n",
       "      <td>0.000000</td>\n",
       "      <td>0.600000</td>\n",
       "      <td>1.000000</td>\n",
       "      <td>0.000000</td>\n",
       "      <td>2.000000</td>\n",
       "      <td>1.000000</td>\n",
       "    </tr>\n",
       "    <tr>\n",
       "      <th>75%</th>\n",
       "      <td>60.000000</td>\n",
       "      <td>1.000000</td>\n",
       "      <td>2.000000</td>\n",
       "      <td>140.000000</td>\n",
       "      <td>274.500000</td>\n",
       "      <td>0.000000</td>\n",
       "      <td>1.000000</td>\n",
       "      <td>168.500000</td>\n",
       "      <td>1.000000</td>\n",
       "      <td>1.600000</td>\n",
       "      <td>2.000000</td>\n",
       "      <td>1.000000</td>\n",
       "      <td>3.000000</td>\n",
       "      <td>1.000000</td>\n",
       "    </tr>\n",
       "    <tr>\n",
       "      <th>max</th>\n",
       "      <td>77.000000</td>\n",
       "      <td>1.000000</td>\n",
       "      <td>3.000000</td>\n",
       "      <td>200.000000</td>\n",
       "      <td>564.000000</td>\n",
       "      <td>1.000000</td>\n",
       "      <td>2.000000</td>\n",
       "      <td>202.000000</td>\n",
       "      <td>1.000000</td>\n",
       "      <td>6.200000</td>\n",
       "      <td>2.000000</td>\n",
       "      <td>4.000000</td>\n",
       "      <td>3.000000</td>\n",
       "      <td>1.000000</td>\n",
       "    </tr>\n",
       "  </tbody>\n",
       "</table>\n",
       "</div>"
      ],
      "text/plain": [
       "              age         sex          cp    trestbps        chol         fbs  \\\n",
       "count  243.000000  243.000000  243.000000  243.000000  243.000000  243.000000   \n",
       "mean    54.065844    0.683128    0.950617  131.769547  245.353909    0.152263   \n",
       "std      9.006184    0.466218    1.023298   17.731596   52.535921    0.360018   \n",
       "min     29.000000    0.000000    0.000000   94.000000  131.000000    0.000000   \n",
       "25%     47.000000    0.000000    0.000000  120.000000  207.500000    0.000000   \n",
       "50%     55.000000    1.000000    1.000000  130.000000  239.000000    0.000000   \n",
       "75%     60.000000    1.000000    2.000000  140.000000  274.500000    0.000000   \n",
       "max     77.000000    1.000000    3.000000  200.000000  564.000000    1.000000   \n",
       "\n",
       "          restecg     thalach       exang     oldpeak       slope          ca  \\\n",
       "count  243.000000  243.000000  243.000000  243.000000  243.000000  243.000000   \n",
       "mean     0.563786  150.267490    0.325103    1.019342    1.407407    0.736626   \n",
       "std      0.529155   23.165022    0.469380    1.177122    0.618805    1.022766   \n",
       "min      0.000000   88.000000    0.000000    0.000000    0.000000    0.000000   \n",
       "25%      0.000000  133.500000    0.000000    0.000000    1.000000    0.000000   \n",
       "50%      1.000000  155.000000    0.000000    0.600000    1.000000    0.000000   \n",
       "75%      1.000000  168.500000    1.000000    1.600000    2.000000    1.000000   \n",
       "max      2.000000  202.000000    1.000000    6.200000    2.000000    4.000000   \n",
       "\n",
       "             thal      target  \n",
       "count  243.000000  243.000000  \n",
       "mean     2.300412    0.563786  \n",
       "std      0.606678    0.496938  \n",
       "min      0.000000    0.000000  \n",
       "25%      2.000000    0.000000  \n",
       "50%      2.000000    1.000000  \n",
       "75%      3.000000    1.000000  \n",
       "max      3.000000    1.000000  "
      ]
     },
     "execution_count": 4,
     "metadata": {},
     "output_type": "execute_result"
    }
   ],
   "source": [
    "heart.describe()"
   ]
  },
  {
   "cell_type": "code",
   "execution_count": 5,
   "id": "61317385",
   "metadata": {},
   "outputs": [
    {
     "data": {
      "text/plain": [
       "1    137\n",
       "0    106\n",
       "Name: target, dtype: int64"
      ]
     },
     "execution_count": 5,
     "metadata": {},
     "output_type": "execute_result"
    }
   ],
   "source": [
    "heart['target'].value_counts()"
   ]
  },
  {
   "cell_type": "markdown",
   "id": "bf7137ac",
   "metadata": {},
   "source": [
    "## Step 4 \n",
    "Here we are doing a train/test split and examining the shape of the split. "
   ]
  },
  {
   "cell_type": "code",
   "execution_count": 6,
   "id": "44520a57",
   "metadata": {},
   "outputs": [],
   "source": [
    "\n",
    "features = heart.drop('target', axis=1)\n",
    "\n",
    "X_train, X_test, y_train, y_test = train_test_split(\n",
    "    features, heart['target'], random_state=7, \n",
    "    stratify = heart['target'],\n",
    "    test_size = 0.20)"
   ]
  },
  {
   "cell_type": "code",
   "execution_count": 7,
   "id": "1f4a8556",
   "metadata": {},
   "outputs": [
    {
     "data": {
      "text/plain": [
       "(194, 13)"
      ]
     },
     "execution_count": 7,
     "metadata": {},
     "output_type": "execute_result"
    }
   ],
   "source": [
    "X_train.shape"
   ]
  },
  {
   "cell_type": "code",
   "execution_count": 8,
   "id": "797c87b4",
   "metadata": {},
   "outputs": [
    {
     "data": {
      "text/plain": [
       "(49, 13)"
      ]
     },
     "execution_count": 8,
     "metadata": {},
     "output_type": "execute_result"
    }
   ],
   "source": [
    "X_test.shape"
   ]
  },
  {
   "cell_type": "code",
   "execution_count": 9,
   "id": "a0a44d05",
   "metadata": {},
   "outputs": [
    {
     "data": {
      "text/plain": [
       "(194,)"
      ]
     },
     "execution_count": 9,
     "metadata": {},
     "output_type": "execute_result"
    }
   ],
   "source": [
    "y_train.shape"
   ]
  },
  {
   "cell_type": "code",
   "execution_count": 10,
   "id": "5d80dadf",
   "metadata": {},
   "outputs": [
    {
     "data": {
      "text/plain": [
       "(49,)"
      ]
     },
     "execution_count": 10,
     "metadata": {},
     "output_type": "execute_result"
    }
   ],
   "source": [
    "y_test.shape"
   ]
  },
  {
   "cell_type": "code",
   "execution_count": 11,
   "id": "c7acc789",
   "metadata": {},
   "outputs": [
    {
     "data": {
      "text/plain": [
       "[]"
      ]
     },
     "execution_count": 11,
     "metadata": {},
     "output_type": "execute_result"
    }
   ],
   "source": [
    "[col for col in heart.dtypes.index if heart[col].dtype=='object']"
   ]
  },
  {
   "cell_type": "code",
   "execution_count": 12,
   "id": "b0e63d20",
   "metadata": {},
   "outputs": [
    {
     "data": {
      "text/plain": [
       "['age',\n",
       " 'sex',\n",
       " 'cp',\n",
       " 'trestbps',\n",
       " 'chol',\n",
       " 'fbs',\n",
       " 'restecg',\n",
       " 'thalach',\n",
       " 'exang',\n",
       " 'oldpeak',\n",
       " 'slope',\n",
       " 'ca',\n",
       " 'thal',\n",
       " 'target']"
      ]
     },
     "execution_count": 12,
     "metadata": {},
     "output_type": "execute_result"
    }
   ],
   "source": [
    "[col for col in heart.dtypes.index if heart[col].dtype in['float64','int64']]"
   ]
  },
  {
   "cell_type": "markdown",
   "id": "f6b0e0e8",
   "metadata": {},
   "source": [
    "## Step 5 \n",
    "Here is the colomn transformer and no OneHotEncoder because as we can see above there is no datatype labelled \"Object\"\n",
    "So we are using just the standard scaler here. Next is the pipeline creation which transforms and manipulates the data to work for our scaler. The  parameter grid which we use to do hyperameter tuning to determine the optimal values for the model. After this step we have our predictions from our gridsearch for our models."
   ]
  },
  {
   "cell_type": "code",
   "execution_count": 27,
   "id": "c00f66dc",
   "metadata": {},
   "outputs": [],
   "source": [
    "col_trans_std = make_column_transformer(\n",
    "    (StandardScaler(), ['age','sex','cp','trestbps','chol','fbs','restecg',\n",
    "                                 'thalach','exang','oldpeak','slope', \n",
    "                                 'ca', 'thal']))\n",
    "\n",
    "\n"
   ]
  },
  {
   "cell_type": "code",
   "execution_count": 14,
   "id": "37a72db2",
   "metadata": {},
   "outputs": [],
   "source": [
    "pipe = Pipeline([('preprocessing', col_trans_std),\n",
    "                  ('classifier', LogisticRegression(max_iter = 1000))])"
   ]
  },
  {
   "cell_type": "code",
   "execution_count": 17,
   "id": "ef14ff3e",
   "metadata": {},
   "outputs": [],
   "source": [
    "param_grid = [\n",
    "    {'preprocessing': [col_trans_std],\n",
    "     'classifier__C': np.logspace(-5, 4, 10)},\n",
    "    {'classifier': [GradientBoostingClassifier(random_state=0)],\n",
    "     'preprocessing':[col_trans_std],\n",
    "     'classifier__min_samples_leaf': [60,50,40,30,20,10,5,2],\n",
    "     'classifier__n_estimators': [100,200],\n",
    "     'classifier__learning_rate': np.linspace(0.01,0.8,5)},\n",
    "    {'classifier': [KNeighborsClassifier()],\n",
    "     'classifier__n_neighbors': np.arange(1, 23, 3)}\n",
    "]"
   ]
  },
  {
   "cell_type": "code",
   "execution_count": 19,
   "id": "13793ec5",
   "metadata": {},
   "outputs": [],
   "source": [
    "gs = GridSearchCV(pipe, param_grid, cv=10, scoring='roc_auc', verbose = 1)"
   ]
  },
  {
   "cell_type": "code",
   "execution_count": 20,
   "id": "c79d61c5",
   "metadata": {},
   "outputs": [
    {
     "name": "stdout",
     "output_type": "stream",
     "text": [
      "Fitting 10 folds for each of 98 candidates, totalling 980 fits\n"
     ]
    },
    {
     "data": {
      "text/plain": [
       "GridSearchCV(cv=10,\n",
       "             estimator=Pipeline(steps=[('preprocessing',\n",
       "                                        ColumnTransformer(transformers=[('standardscaler',\n",
       "                                                                         StandardScaler(),\n",
       "                                                                         ['age',\n",
       "                                                                          'sex',\n",
       "                                                                          'cp',\n",
       "                                                                          'trestbps',\n",
       "                                                                          'chol',\n",
       "                                                                          'fbs',\n",
       "                                                                          'restecg',\n",
       "                                                                          'thalach',\n",
       "                                                                          'exang',\n",
       "                                                                          'oldpeak',\n",
       "                                                                          'slope',\n",
       "                                                                          'ca',\n",
       "                                                                          'thal'])])),\n",
       "                                       ('classifier',\n",
       "                                        LogisticRegression(max_iter=1000))]),\n",
       "             param_grid=[{'classifier__C': array([1.e-05, 1.e-04, 1.e-03, 1.e-02, 1...\n",
       "                          'classifier__n_estimators': [100, 200],\n",
       "                          'preprocessing': [ColumnTransformer(transformers=[('standardscaler',\n",
       "                                                                             StandardScaler(),\n",
       "                                                                             ['age',\n",
       "                                                                              'sex',\n",
       "                                                                              'cp',\n",
       "                                                                              'trestbps',\n",
       "                                                                              'chol',\n",
       "                                                                              'fbs',\n",
       "                                                                              'restecg',\n",
       "                                                                              'thalach',\n",
       "                                                                              'exang',\n",
       "                                                                              'oldpeak',\n",
       "                                                                              'slope',\n",
       "                                                                              'ca',\n",
       "                                                                              'thal'])])]},\n",
       "                         {'classifier': [KNeighborsClassifier()],\n",
       "                          'classifier__n_neighbors': array([ 1,  4,  7, 10, 13, 16, 19, 22])}],\n",
       "             scoring='roc_auc', verbose=1)"
      ]
     },
     "execution_count": 20,
     "metadata": {},
     "output_type": "execute_result"
    }
   ],
   "source": [
    "gs.fit(X_train, y_train)"
   ]
  },
  {
   "cell_type": "code",
   "execution_count": 21,
   "id": "b8635ea6",
   "metadata": {},
   "outputs": [
    {
     "name": "stdout",
     "output_type": "stream",
     "text": [
      "Best estimator:\n",
      "Pipeline(steps=[('preprocessing',\n",
      "                 ColumnTransformer(transformers=[('standardscaler',\n",
      "                                                  StandardScaler(),\n",
      "                                                  ['age', 'sex', 'cp',\n",
      "                                                   'trestbps', 'chol', 'fbs',\n",
      "                                                   'restecg', 'thalach',\n",
      "                                                   'exang', 'oldpeak', 'slope',\n",
      "                                                   'ca', 'thal'])])),\n",
      "                ('classifier',\n",
      "                 GradientBoostingClassifier(learning_rate=0.6025,\n",
      "                                            min_samples_leaf=30,\n",
      "                                            random_state=0))])\n"
     ]
    }
   ],
   "source": [
    "print(\"Best estimator:\\n{}\".format(gs.best_estimator_))"
   ]
  },
  {
   "cell_type": "code",
   "execution_count": 22,
   "id": "1347aca0",
   "metadata": {},
   "outputs": [
    {
     "name": "stdout",
     "output_type": "stream",
     "text": [
      "Test set score: 0.844\n"
     ]
    }
   ],
   "source": [
    "print(\"Test set score: {:.3f}\".format(gs.score(X_test, y_test)))"
   ]
  },
  {
   "cell_type": "code",
   "execution_count": 233,
   "id": "731f58d2",
   "metadata": {},
   "outputs": [
    {
     "name": "stdout",
     "output_type": "stream",
     "text": [
      "Best parameters: {'classifier': KNeighborsClassifier(n_neighbors=28), 'classifier__n_neighbors': 28}\n"
     ]
    }
   ],
   "source": [
    "print(\"Best parameters: {}\".format(gs.best_params_))"
   ]
  },
  {
   "cell_type": "code",
   "execution_count": 234,
   "id": "2e9cca85",
   "metadata": {},
   "outputs": [
    {
     "name": "stdout",
     "output_type": "stream",
     "text": [
      "Best cross-validation score: 0.921\n"
     ]
    }
   ],
   "source": [
    "print(\"Best cross-validation score: {:.3f}\".format(gs.best_score_))"
   ]
  },
  {
   "cell_type": "markdown",
   "id": "01d34458",
   "metadata": {},
   "source": [
    "## Step 6 \n",
    "Here we are taking our results and applying it to the heart validation dataset. After doing that we are creating a new csv file with our predictions. "
   ]
  },
  {
   "cell_type": "code",
   "execution_count": 67,
   "id": "ba061a51",
   "metadata": {},
   "outputs": [],
   "source": [
    "results = pd.DataFrame(gs.cv_results_)"
   ]
  },
  {
   "cell_type": "code",
   "execution_count": 68,
   "id": "41ed2e36",
   "metadata": {},
   "outputs": [
    {
     "data": {
      "text/html": [
       "<div>\n",
       "<style scoped>\n",
       "    .dataframe tbody tr th:only-of-type {\n",
       "        vertical-align: middle;\n",
       "    }\n",
       "\n",
       "    .dataframe tbody tr th {\n",
       "        vertical-align: top;\n",
       "    }\n",
       "\n",
       "    .dataframe thead th {\n",
       "        text-align: right;\n",
       "    }\n",
       "</style>\n",
       "<table border=\"1\" class=\"dataframe\">\n",
       "  <thead>\n",
       "    <tr style=\"text-align: right;\">\n",
       "      <th></th>\n",
       "      <th>mean_fit_time</th>\n",
       "      <th>std_fit_time</th>\n",
       "      <th>mean_score_time</th>\n",
       "      <th>std_score_time</th>\n",
       "      <th>param_classifier__C</th>\n",
       "      <th>param_preprocessing</th>\n",
       "      <th>param_classifier</th>\n",
       "      <th>param_classifier__learning_rate</th>\n",
       "      <th>param_classifier__min_samples_leaf</th>\n",
       "      <th>param_classifier__n_estimators</th>\n",
       "      <th>...</th>\n",
       "      <th>split3_test_score</th>\n",
       "      <th>split4_test_score</th>\n",
       "      <th>split5_test_score</th>\n",
       "      <th>split6_test_score</th>\n",
       "      <th>split7_test_score</th>\n",
       "      <th>split8_test_score</th>\n",
       "      <th>split9_test_score</th>\n",
       "      <th>mean_test_score</th>\n",
       "      <th>std_test_score</th>\n",
       "      <th>rank_test_score</th>\n",
       "    </tr>\n",
       "  </thead>\n",
       "  <tbody>\n",
       "    <tr>\n",
       "      <th>0</th>\n",
       "      <td>0.008285</td>\n",
       "      <td>0.002812</td>\n",
       "      <td>0.003992</td>\n",
       "      <td>0.001781</td>\n",
       "      <td>0.00001</td>\n",
       "      <td>ColumnTransformer(transformers=[('standardscal...</td>\n",
       "      <td>NaN</td>\n",
       "      <td>NaN</td>\n",
       "      <td>NaN</td>\n",
       "      <td>NaN</td>\n",
       "      <td>...</td>\n",
       "      <td>0.939394</td>\n",
       "      <td>1.000000</td>\n",
       "      <td>0.977273</td>\n",
       "      <td>0.886364</td>\n",
       "      <td>0.875000</td>\n",
       "      <td>0.681818</td>\n",
       "      <td>0.911111</td>\n",
       "      <td>0.898813</td>\n",
       "      <td>0.086477</td>\n",
       "      <td>55</td>\n",
       "    </tr>\n",
       "    <tr>\n",
       "      <th>1</th>\n",
       "      <td>0.005856</td>\n",
       "      <td>0.000438</td>\n",
       "      <td>0.002663</td>\n",
       "      <td>0.000318</td>\n",
       "      <td>0.0001</td>\n",
       "      <td>ColumnTransformer(transformers=[('standardscal...</td>\n",
       "      <td>NaN</td>\n",
       "      <td>NaN</td>\n",
       "      <td>NaN</td>\n",
       "      <td>NaN</td>\n",
       "      <td>...</td>\n",
       "      <td>0.939394</td>\n",
       "      <td>1.000000</td>\n",
       "      <td>0.977273</td>\n",
       "      <td>0.886364</td>\n",
       "      <td>0.875000</td>\n",
       "      <td>0.681818</td>\n",
       "      <td>0.911111</td>\n",
       "      <td>0.899823</td>\n",
       "      <td>0.086650</td>\n",
       "      <td>53</td>\n",
       "    </tr>\n",
       "    <tr>\n",
       "      <th>2</th>\n",
       "      <td>0.005689</td>\n",
       "      <td>0.000754</td>\n",
       "      <td>0.002947</td>\n",
       "      <td>0.000610</td>\n",
       "      <td>0.001</td>\n",
       "      <td>ColumnTransformer(transformers=[('standardscal...</td>\n",
       "      <td>NaN</td>\n",
       "      <td>NaN</td>\n",
       "      <td>NaN</td>\n",
       "      <td>NaN</td>\n",
       "      <td>...</td>\n",
       "      <td>0.939394</td>\n",
       "      <td>1.000000</td>\n",
       "      <td>0.977273</td>\n",
       "      <td>0.886364</td>\n",
       "      <td>0.875000</td>\n",
       "      <td>0.681818</td>\n",
       "      <td>0.911111</td>\n",
       "      <td>0.899823</td>\n",
       "      <td>0.086650</td>\n",
       "      <td>53</td>\n",
       "    </tr>\n",
       "    <tr>\n",
       "      <th>3</th>\n",
       "      <td>0.005185</td>\n",
       "      <td>0.000205</td>\n",
       "      <td>0.002413</td>\n",
       "      <td>0.000145</td>\n",
       "      <td>0.01</td>\n",
       "      <td>ColumnTransformer(transformers=[('standardscal...</td>\n",
       "      <td>NaN</td>\n",
       "      <td>NaN</td>\n",
       "      <td>NaN</td>\n",
       "      <td>NaN</td>\n",
       "      <td>...</td>\n",
       "      <td>0.939394</td>\n",
       "      <td>1.000000</td>\n",
       "      <td>0.988636</td>\n",
       "      <td>0.886364</td>\n",
       "      <td>0.886364</td>\n",
       "      <td>0.715909</td>\n",
       "      <td>0.900000</td>\n",
       "      <td>0.908434</td>\n",
       "      <td>0.076839</td>\n",
       "      <td>23</td>\n",
       "    </tr>\n",
       "    <tr>\n",
       "      <th>4</th>\n",
       "      <td>0.005441</td>\n",
       "      <td>0.000677</td>\n",
       "      <td>0.002480</td>\n",
       "      <td>0.000154</td>\n",
       "      <td>0.1</td>\n",
       "      <td>ColumnTransformer(transformers=[('standardscal...</td>\n",
       "      <td>NaN</td>\n",
       "      <td>NaN</td>\n",
       "      <td>NaN</td>\n",
       "      <td>NaN</td>\n",
       "      <td>...</td>\n",
       "      <td>0.949495</td>\n",
       "      <td>1.000000</td>\n",
       "      <td>1.000000</td>\n",
       "      <td>0.875000</td>\n",
       "      <td>0.886364</td>\n",
       "      <td>0.750000</td>\n",
       "      <td>0.855556</td>\n",
       "      <td>0.902348</td>\n",
       "      <td>0.070284</td>\n",
       "      <td>42</td>\n",
       "    </tr>\n",
       "    <tr>\n",
       "      <th>...</th>\n",
       "      <td>...</td>\n",
       "      <td>...</td>\n",
       "      <td>...</td>\n",
       "      <td>...</td>\n",
       "      <td>...</td>\n",
       "      <td>...</td>\n",
       "      <td>...</td>\n",
       "      <td>...</td>\n",
       "      <td>...</td>\n",
       "      <td>...</td>\n",
       "      <td>...</td>\n",
       "      <td>...</td>\n",
       "      <td>...</td>\n",
       "      <td>...</td>\n",
       "      <td>...</td>\n",
       "      <td>...</td>\n",
       "      <td>...</td>\n",
       "      <td>...</td>\n",
       "      <td>...</td>\n",
       "      <td>...</td>\n",
       "      <td>...</td>\n",
       "    </tr>\n",
       "    <tr>\n",
       "      <th>66</th>\n",
       "      <td>0.003525</td>\n",
       "      <td>0.000061</td>\n",
       "      <td>0.002964</td>\n",
       "      <td>0.000086</td>\n",
       "      <td>NaN</td>\n",
       "      <td>NaN</td>\n",
       "      <td>KNeighborsClassifier()</td>\n",
       "      <td>NaN</td>\n",
       "      <td>NaN</td>\n",
       "      <td>NaN</td>\n",
       "      <td>...</td>\n",
       "      <td>0.898990</td>\n",
       "      <td>1.000000</td>\n",
       "      <td>1.000000</td>\n",
       "      <td>0.857955</td>\n",
       "      <td>0.914773</td>\n",
       "      <td>0.732955</td>\n",
       "      <td>0.905556</td>\n",
       "      <td>0.906275</td>\n",
       "      <td>0.075224</td>\n",
       "      <td>27</td>\n",
       "    </tr>\n",
       "    <tr>\n",
       "      <th>67</th>\n",
       "      <td>0.003551</td>\n",
       "      <td>0.000059</td>\n",
       "      <td>0.002968</td>\n",
       "      <td>0.000072</td>\n",
       "      <td>NaN</td>\n",
       "      <td>NaN</td>\n",
       "      <td>KNeighborsClassifier()</td>\n",
       "      <td>NaN</td>\n",
       "      <td>NaN</td>\n",
       "      <td>NaN</td>\n",
       "      <td>...</td>\n",
       "      <td>0.909091</td>\n",
       "      <td>1.000000</td>\n",
       "      <td>1.000000</td>\n",
       "      <td>0.875000</td>\n",
       "      <td>0.909091</td>\n",
       "      <td>0.738636</td>\n",
       "      <td>0.905556</td>\n",
       "      <td>0.910505</td>\n",
       "      <td>0.074644</td>\n",
       "      <td>18</td>\n",
       "    </tr>\n",
       "    <tr>\n",
       "      <th>68</th>\n",
       "      <td>0.003585</td>\n",
       "      <td>0.000110</td>\n",
       "      <td>0.002969</td>\n",
       "      <td>0.000086</td>\n",
       "      <td>NaN</td>\n",
       "      <td>NaN</td>\n",
       "      <td>KNeighborsClassifier()</td>\n",
       "      <td>NaN</td>\n",
       "      <td>NaN</td>\n",
       "      <td>NaN</td>\n",
       "      <td>...</td>\n",
       "      <td>0.919192</td>\n",
       "      <td>1.000000</td>\n",
       "      <td>1.000000</td>\n",
       "      <td>0.880682</td>\n",
       "      <td>0.920455</td>\n",
       "      <td>0.744318</td>\n",
       "      <td>0.916667</td>\n",
       "      <td>0.914394</td>\n",
       "      <td>0.074318</td>\n",
       "      <td>12</td>\n",
       "    </tr>\n",
       "    <tr>\n",
       "      <th>69</th>\n",
       "      <td>0.003546</td>\n",
       "      <td>0.000063</td>\n",
       "      <td>0.003018</td>\n",
       "      <td>0.000065</td>\n",
       "      <td>NaN</td>\n",
       "      <td>NaN</td>\n",
       "      <td>KNeighborsClassifier()</td>\n",
       "      <td>NaN</td>\n",
       "      <td>NaN</td>\n",
       "      <td>NaN</td>\n",
       "      <td>...</td>\n",
       "      <td>0.898990</td>\n",
       "      <td>0.994318</td>\n",
       "      <td>1.000000</td>\n",
       "      <td>0.897727</td>\n",
       "      <td>0.909091</td>\n",
       "      <td>0.727273</td>\n",
       "      <td>0.900000</td>\n",
       "      <td>0.910013</td>\n",
       "      <td>0.075551</td>\n",
       "      <td>19</td>\n",
       "    </tr>\n",
       "    <tr>\n",
       "      <th>70</th>\n",
       "      <td>0.003596</td>\n",
       "      <td>0.000066</td>\n",
       "      <td>0.003074</td>\n",
       "      <td>0.000176</td>\n",
       "      <td>NaN</td>\n",
       "      <td>NaN</td>\n",
       "      <td>KNeighborsClassifier()</td>\n",
       "      <td>NaN</td>\n",
       "      <td>NaN</td>\n",
       "      <td>NaN</td>\n",
       "      <td>...</td>\n",
       "      <td>0.898990</td>\n",
       "      <td>0.994318</td>\n",
       "      <td>0.994318</td>\n",
       "      <td>0.897727</td>\n",
       "      <td>0.903409</td>\n",
       "      <td>0.727273</td>\n",
       "      <td>0.900000</td>\n",
       "      <td>0.910896</td>\n",
       "      <td>0.074959</td>\n",
       "      <td>16</td>\n",
       "    </tr>\n",
       "  </tbody>\n",
       "</table>\n",
       "<p>71 rows × 25 columns</p>\n",
       "</div>"
      ],
      "text/plain": [
       "    mean_fit_time  std_fit_time  mean_score_time  std_score_time  \\\n",
       "0        0.008285      0.002812         0.003992        0.001781   \n",
       "1        0.005856      0.000438         0.002663        0.000318   \n",
       "2        0.005689      0.000754         0.002947        0.000610   \n",
       "3        0.005185      0.000205         0.002413        0.000145   \n",
       "4        0.005441      0.000677         0.002480        0.000154   \n",
       "..            ...           ...              ...             ...   \n",
       "66       0.003525      0.000061         0.002964        0.000086   \n",
       "67       0.003551      0.000059         0.002968        0.000072   \n",
       "68       0.003585      0.000110         0.002969        0.000086   \n",
       "69       0.003546      0.000063         0.003018        0.000065   \n",
       "70       0.003596      0.000066         0.003074        0.000176   \n",
       "\n",
       "   param_classifier__C                                param_preprocessing  \\\n",
       "0              0.00001  ColumnTransformer(transformers=[('standardscal...   \n",
       "1               0.0001  ColumnTransformer(transformers=[('standardscal...   \n",
       "2                0.001  ColumnTransformer(transformers=[('standardscal...   \n",
       "3                 0.01  ColumnTransformer(transformers=[('standardscal...   \n",
       "4                  0.1  ColumnTransformer(transformers=[('standardscal...   \n",
       "..                 ...                                                ...   \n",
       "66                 NaN                                                NaN   \n",
       "67                 NaN                                                NaN   \n",
       "68                 NaN                                                NaN   \n",
       "69                 NaN                                                NaN   \n",
       "70                 NaN                                                NaN   \n",
       "\n",
       "          param_classifier param_classifier__learning_rate  \\\n",
       "0                      NaN                             NaN   \n",
       "1                      NaN                             NaN   \n",
       "2                      NaN                             NaN   \n",
       "3                      NaN                             NaN   \n",
       "4                      NaN                             NaN   \n",
       "..                     ...                             ...   \n",
       "66  KNeighborsClassifier()                             NaN   \n",
       "67  KNeighborsClassifier()                             NaN   \n",
       "68  KNeighborsClassifier()                             NaN   \n",
       "69  KNeighborsClassifier()                             NaN   \n",
       "70  KNeighborsClassifier()                             NaN   \n",
       "\n",
       "   param_classifier__min_samples_leaf param_classifier__n_estimators  ...  \\\n",
       "0                                 NaN                            NaN  ...   \n",
       "1                                 NaN                            NaN  ...   \n",
       "2                                 NaN                            NaN  ...   \n",
       "3                                 NaN                            NaN  ...   \n",
       "4                                 NaN                            NaN  ...   \n",
       "..                                ...                            ...  ...   \n",
       "66                                NaN                            NaN  ...   \n",
       "67                                NaN                            NaN  ...   \n",
       "68                                NaN                            NaN  ...   \n",
       "69                                NaN                            NaN  ...   \n",
       "70                                NaN                            NaN  ...   \n",
       "\n",
       "   split3_test_score split4_test_score  split5_test_score  split6_test_score  \\\n",
       "0           0.939394          1.000000           0.977273           0.886364   \n",
       "1           0.939394          1.000000           0.977273           0.886364   \n",
       "2           0.939394          1.000000           0.977273           0.886364   \n",
       "3           0.939394          1.000000           0.988636           0.886364   \n",
       "4           0.949495          1.000000           1.000000           0.875000   \n",
       "..               ...               ...                ...                ...   \n",
       "66          0.898990          1.000000           1.000000           0.857955   \n",
       "67          0.909091          1.000000           1.000000           0.875000   \n",
       "68          0.919192          1.000000           1.000000           0.880682   \n",
       "69          0.898990          0.994318           1.000000           0.897727   \n",
       "70          0.898990          0.994318           0.994318           0.897727   \n",
       "\n",
       "    split7_test_score  split8_test_score  split9_test_score  mean_test_score  \\\n",
       "0            0.875000           0.681818           0.911111         0.898813   \n",
       "1            0.875000           0.681818           0.911111         0.899823   \n",
       "2            0.875000           0.681818           0.911111         0.899823   \n",
       "3            0.886364           0.715909           0.900000         0.908434   \n",
       "4            0.886364           0.750000           0.855556         0.902348   \n",
       "..                ...                ...                ...              ...   \n",
       "66           0.914773           0.732955           0.905556         0.906275   \n",
       "67           0.909091           0.738636           0.905556         0.910505   \n",
       "68           0.920455           0.744318           0.916667         0.914394   \n",
       "69           0.909091           0.727273           0.900000         0.910013   \n",
       "70           0.903409           0.727273           0.900000         0.910896   \n",
       "\n",
       "    std_test_score  rank_test_score  \n",
       "0         0.086477               55  \n",
       "1         0.086650               53  \n",
       "2         0.086650               53  \n",
       "3         0.076839               23  \n",
       "4         0.070284               42  \n",
       "..             ...              ...  \n",
       "66        0.075224               27  \n",
       "67        0.074644               18  \n",
       "68        0.074318               12  \n",
       "69        0.075551               19  \n",
       "70        0.074959               16  \n",
       "\n",
       "[71 rows x 25 columns]"
      ]
     },
     "execution_count": 68,
     "metadata": {},
     "output_type": "execute_result"
    }
   ],
   "source": [
    "results"
   ]
  },
  {
   "cell_type": "code",
   "execution_count": 23,
   "id": "39202472",
   "metadata": {},
   "outputs": [
    {
     "data": {
      "text/plain": [
       "array([0, 0, 1, 0, 0, 1, 0, 0, 0, 1, 1, 0, 1, 1, 1, 1, 1, 1, 1, 0, 1, 1,\n",
       "       1, 1, 1, 1, 1, 0, 0, 1, 1, 0, 1, 1, 0, 1, 1, 0, 0, 0, 0, 0, 1, 1,\n",
       "       0, 0, 1, 0, 0, 1, 1, 1, 1, 0, 1, 0, 1, 1, 0, 0])"
      ]
     },
     "execution_count": 23,
     "metadata": {},
     "output_type": "execute_result"
    }
   ],
   "source": [
    "gs.predict(heart_new)"
   ]
  },
  {
   "cell_type": "code",
   "execution_count": 25,
   "id": "af90cf2d",
   "metadata": {},
   "outputs": [],
   "source": [
    "pd.Series(gs.predict(heart_new)).to_csv('Nolan_assign_9.csv', index= False)"
   ]
  },
  {
   "cell_type": "code",
   "execution_count": null,
   "id": "11970d93",
   "metadata": {},
   "outputs": [],
   "source": []
  }
 ],
 "metadata": {
  "kernelspec": {
   "display_name": "Python 3 (ipykernel)",
   "language": "python",
   "name": "python3"
  },
  "language_info": {
   "codemirror_mode": {
    "name": "ipython",
    "version": 3
   },
   "file_extension": ".py",
   "mimetype": "text/x-python",
   "name": "python",
   "nbconvert_exporter": "python",
   "pygments_lexer": "ipython3",
   "version": "3.9.5"
  }
 },
 "nbformat": 4,
 "nbformat_minor": 5
}
